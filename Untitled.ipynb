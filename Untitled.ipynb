{
 "cells": [
  {
   "cell_type": "code",
   "execution_count": 5,
   "metadata": {},
   "outputs": [
    {
     "ename": "ModuleNotFoundError",
     "evalue": "No module named 'altair'",
     "output_type": "error",
     "traceback": [
      "\u001b[1;31m---------------------------------------------------------------------------\u001b[0m",
      "\u001b[1;31mModuleNotFoundError\u001b[0m                       Traceback (most recent call last)",
      "\u001b[1;32m<ipython-input-5-937cf027a3c6>\u001b[0m in \u001b[0;36m<module>\u001b[1;34m\u001b[0m\n\u001b[0;32m      6\u001b[0m \u001b[1;33m\u001b[0m\u001b[0m\n\u001b[0;32m      7\u001b[0m \u001b[1;32mfrom\u001b[0m \u001b[0mdatetime\u001b[0m \u001b[1;32mimport\u001b[0m \u001b[0mdatetime\u001b[0m\u001b[1;33m\u001b[0m\u001b[1;33m\u001b[0m\u001b[0m\n\u001b[1;32m----> 8\u001b[1;33m \u001b[1;32mimport\u001b[0m \u001b[0maltair\u001b[0m \u001b[1;32mas\u001b[0m \u001b[0malt\u001b[0m\u001b[1;33m\u001b[0m\u001b[1;33m\u001b[0m\u001b[0m\n\u001b[0m\u001b[0;32m      9\u001b[0m \u001b[1;32mimport\u001b[0m \u001b[0mos\u001b[0m\u001b[1;33m\u001b[0m\u001b[1;33m\u001b[0m\u001b[0m\n\u001b[0;32m     10\u001b[0m \u001b[1;32mimport\u001b[0m \u001b[0minvestpy\u001b[0m\u001b[1;33m\u001b[0m\u001b[1;33m\u001b[0m\u001b[0m\n",
      "\u001b[1;31mModuleNotFoundError\u001b[0m: No module named 'altair'"
     ]
    }
   ],
   "source": [
    "import sqlite3\n",
    "import pandas as pd\n",
    "from sqlalchemy import create_engine\n",
    "import numpy as np\n",
    "import yfinance as yf\n",
    "\n",
    "from datetime import datetime\n",
    "import altair as alt\n",
    "import os\n",
    "import investpy"
   ]
  },
  {
   "cell_type": "code",
   "execution_count": 6,
   "metadata": {},
   "outputs": [],
   "source": [
    "def GetRendement(x):\n",
    "    ### 1: creeeren van brug tussen sql query en database\n",
    "    ### 2a: bepaal de eindwaarde per dag voor klant x\n",
    "    ### 2b: bepaal de stortingen per dag voor klant x\n",
    "    ### 2c: bepaal de deponeringen per dag voor klant x\n",
    "    ### 2d: bepaal de onttrekkingen per dag voor klant x\n",
    "    ### 2e: bepaal de lichtingen per dag voor klant x\n",
    "     \n",
    "    \n",
    "    ### 1: creeeren van brug tussen sql query en database\n",
    "    engine = create_engine('sqlite:///DatabaseVB1.db')\n",
    "    \n",
    "    \n",
    "    ### 2a: bepaal de eindwaarde per dag voor klant x (datum, eindwaarde)\n",
    "    df_posrecon = pd.read_sql(f'''SELECT \"Datum\", ROUND(sum(\"Current_Value_in_EUR\"),2) as \"Eind Waarde\" FROM Posrecon WHERE \"Account_Number\" = \"{x}\" group by \"Datum\" order by \"Datum\"''', con = engine).set_index('Datum')\n",
    "    \n",
    "    \n",
    "    ### 2b: bepaal de stortingen per dag voor klant x (datum, stortingen)\n",
    "    ### (som van kolom invoice amount, indien OF (Transaction Type Code=O-G en Reference Code=5026) OF (Transaction Type Code=O-G en Reference Code=5000 en kolom invoice amount >0)\n",
    "    df_stortingen = pd.read_sql (f'''  SELECT \"Datum\", sum(\"Invoice_Amount\") as \"Stortingen\" FROM Traderecon WHERE \"Account_Number\" = \"{x}\"  AND \"Reference_Code\" = 5026 OR (\"Account_Number\" = \"{x}\" AND \"Reference_Code\" = 5000 AND \"Invoice_Amount\" > 0) group by \"Datum\" order by \"Datum\" ''', con = engine).set_index('Datum')\n",
    "    \n",
    "    \n",
    "    ### 2c: bepaal de deponeringen per dag voor klant x (datum, deponeringen)\n",
    "    ### som van kolom Deposit Value, indien (1) Transaction Type Code = D, of (2) Transaction Type Code = O en Deposit value > 0. \n",
    "    \n",
    "    df_deponeringen = pd.read_sql (f''' SELECT \"Datum\", sum(\"Deposit_Value\") as Deponeringen FROM Traderecon WHERE (\"Account_Number\" = \"{x}\" AND \"Transaction_Type_Code\" = \"D\") OR (\"Account_Number\" = \"{x}\" AND \"Transaction_Type_Code\" = \"O\" AND \"Deposit_Value\" > 0) group by \"Datum\" order by \"Datum\" ''', con = engine).set_index('Datum')\n",
    "    \n",
    "    \n",
    "    ### 2d: bepaal de onttrekkingen per dag voor klant x (datum, onttrekkingen)\n",
    "    ### (som van kolom invoice amount *-1, indien (1) Reference Code=5025, (2) Reference Code=5000 en invoice amount < 0.   \n",
    "    df_onttrekking = pd.read_sql (f''' SELECT Datum, sum(\"Invoice_Amount\")*-1 as \"Onttrekkingen\" FROM Traderecon WHERE (\"Account_Number\" = \"{x}\" AND \"Reference_Code\" = 5025) OR (\"Account_Number\" = \"{x}\" AND \"Reference_Code\" = 5000 AND \"Invoice_Amount\" < 0) group by \"Datum\" order by \"Datum\" ''', con = engine).set_index('Datum')\n",
    "    \n",
    "\n",
    "    ### 2e: bepaal de lichtingen per dag voor klant x (datum, lichtingen)\n",
    "    ### som van kolom Deposit Value *-1, indien (1) Transaction Type Code = L, of (2) Transaction Type Code = O en Deposit value < 0. \n",
    "    df_lichtingen = pd.read_sql (f''' SELECT Datum, sum(\"Deposit_Value\")*-1 as \"Lichtingen\"  FROM Traderecon WHERE (\"Account_Number\" = \"{x}\" AND \"Transaction_Type_Code\" = \"L\") OR (\"Account_Number\" = \"{x}\" AND \"Transaction_Type_Code\" = \"O\" AND \"Deposit_Value\" < 0) group by \"Datum\" order by \"Datum\" ''', con = engine).set_index('Datum')\n",
    "\n",
    "\n",
    "    # Concat de 4 dataframes uit de Traderecon query in 1 dataframe en merge deze met de Posrecon dataframe\n",
    "    traderecon_data = [df_onttrekking, df_stortingen, df_lichtingen, df_deponeringen]\n",
    "    df_tot_tr = pd.concat(traderecon_data).fillna(0).groupby(['Datum']).sum()\n",
    "    df_final = df_posrecon.merge(df_tot_tr, on='Datum', how='outer')\n",
    "    \n",
    "    ### VOEG DE OVERBOEKINGEN AAN DE DATAFRAME MET DE WAARDES PORTEFEUILLE\n",
    "    traderecon_columns = ['Onttrekkingen', 'Stortingen', 'Lichtingen', 'Deponeringen']\n",
    "    df_final[traderecon_columns] = df_final[traderecon_columns].fillna(0.0)\n",
    "    \n",
    "    \n",
    "    ### MAAK KOLOM ACTUELE RENDEMENT EN BEREKEN RENDEMENT VAN WAARDE PORTEFEUILLE EN ONTTREKKINGEN / STORTINGEN\n",
    "    # start waarde is de eind waarde van de vorige dag\n",
    "    df_final['Start Waarde'] = df_final[\"Eind Waarde\"].shift(1)\n",
    "    #df_final['Start Waarde'] = df_final[\"Start Waarde\"].fillna(df_final[\"Eind Waarde\"])\n",
    "    df_final['Eind Waarde'] = df_final['Eind Waarde'].fillna(df_final['Start Waarde'] + df_final['Stortingen'] + \n",
    "                                                             df_final['Deponeringen'] - df_final['Onttrekkingen'] - \n",
    "                                                             df_final['Lichtingen'])\n",
    "    df_final['Dag Rendement'] = ((df_final['Eind Waarde'] - df_final['Start Waarde'] - df_final['Stortingen'] - df_final['Deponeringen'] + df_final['Onttrekkingen'] + df_final['Lichtingen'] ) ) / (df_final['Start Waarde'] + df_final['Stortingen'] + df_final['Deponeringen'] - df_final['Onttrekkingen'] - df_final['Lichtingen']).round(5)\n",
    "    df_final['Dag Rendement'] = df_final['Dag Rendement'].fillna(0)  \n",
    "    \n",
    "    \n",
    "    df_final['EW Portfolio Cumulatief Rendement'] = (1 + df_final['Dag Rendement']).cumprod()\n",
    "\n",
    "    df_final['SW Portfolio Cumulatief Rendement'] = df_final['EW Portfolio Cumulatief Rendement'].shift(1)\n",
    "    df_final['SW Portfolio Cumulatief Rendement'] = df_final['SW Portfolio Cumulatief Rendement'].fillna(1)\n",
    "    #df_final['SW Portfolio Cumulatief Rendement'] = df_final['SW Portfolio Cumulatief Rendement'].fillna(1.0)\n",
    "    #df_final['Eind Waarde'] =  pd.to_numeric(df_final['Eind Waarde'], downcast = 'float')\n",
    "    columns = ['Start Waarde','Stortingen','Deponeringen', 'Onttrekkingen', 'Lichtingen', 'Eind Waarde', 'Dag Rendement', 'SW Portfolio Cumulatief Rendement', 'EW Portfolio Cumulatief Rendement']\n",
    "    \n",
    "    return df_final[columns]"
   ]
  },
  {
   "cell_type": "code",
   "execution_count": 7,
   "metadata": {},
   "outputs": [],
   "source": [
    "klant = GetRendement(295516)"
   ]
  },
  {
   "cell_type": "code",
   "execution_count": null,
   "metadata": {},
   "outputs": [],
   "source": []
  },
  {
   "cell_type": "code",
   "execution_count": 8,
   "metadata": {},
   "outputs": [],
   "source": [
    "def getBenchmarkData(bench):\n",
    "    conn = sqlite3.connect('DatabaseVB1.db')\n",
    "    engine = create_engine('sqlite:///DatabaseVB1.db')\n",
    "\n",
    "    ticker = yf.Ticker(bench)\n",
    "    df_benchmark = ticker.history(period='20y')\n",
    "\n",
    "    df_benchmark.reset_index(inplace = True)\n",
    "    df_benchmark.rename(columns = {'Date':'Datum', 'Close': 'Eind Waarde'}, inplace = True)\n",
    "#     df_benchmark['Start Waarde'] = df_benchmark['Eind Waarde'].shift(1)\n",
    "#     df_benchmark['Benchmark Dag Rendement'] = ((df_benchmark['Eind Waarde'] - df_benchmark['Start Waarde']) / df_benchmark['Start Waarde']).round(5)\n",
    "#     df_benchmark['Benchmark Dag Rendement'] = df_benchmark['Benchmark Dag Rendement'].fillna(0)\n",
    "    df_benchmark.to_sql(f'{bench}', if_exists = 'replace', con = conn)\n",
    "\n",
    "    df = pd.read_sql(f'''\n",
    "        SELECT substr(Datum, 1, 10) as \"Datum\", \"Eind Waarde\" FROM \"{bench}\"\n",
    "    ''', con = engine).set_index('Datum')\n",
    "    df = df.fillna(method='ffill')\n",
    "    return df"
   ]
  },
  {
   "cell_type": "code",
   "execution_count": 9,
   "metadata": {},
   "outputs": [
    {
     "name": "stderr",
     "output_type": "stream",
     "text": [
      "c:\\users\\ismet\\appdata\\local\\programs\\python\\python38-32\\lib\\site-packages\\pandas\\core\\generic.py:2605: UserWarning: The spaces in these column names will not be changed. In pandas versions < 0.14, spaces were converted to underscores.\n",
      "  sql.to_sql(\n"
     ]
    }
   ],
   "source": [
    "benchmarkdata = getBenchmarkData(\"IUSQ.DE\")"
   ]
  },
  {
   "cell_type": "code",
   "execution_count": 10,
   "metadata": {},
   "outputs": [
    {
     "data": {
      "text/html": [
       "<div>\n",
       "<style scoped>\n",
       "    .dataframe tbody tr th:only-of-type {\n",
       "        vertical-align: middle;\n",
       "    }\n",
       "\n",
       "    .dataframe tbody tr th {\n",
       "        vertical-align: top;\n",
       "    }\n",
       "\n",
       "    .dataframe thead th {\n",
       "        text-align: right;\n",
       "    }\n",
       "</style>\n",
       "<table border=\"1\" class=\"dataframe\">\n",
       "  <thead>\n",
       "    <tr style=\"text-align: right;\">\n",
       "      <th></th>\n",
       "      <th>Eind Waarde</th>\n",
       "    </tr>\n",
       "    <tr>\n",
       "      <th>Datum</th>\n",
       "      <th></th>\n",
       "    </tr>\n",
       "  </thead>\n",
       "  <tbody>\n",
       "    <tr>\n",
       "      <th>2012-06-18</th>\n",
       "      <td>20.77</td>\n",
       "    </tr>\n",
       "    <tr>\n",
       "      <th>2012-06-19</th>\n",
       "      <td>20.90</td>\n",
       "    </tr>\n",
       "    <tr>\n",
       "      <th>2012-06-20</th>\n",
       "      <td>20.88</td>\n",
       "    </tr>\n",
       "    <tr>\n",
       "      <th>2012-06-21</th>\n",
       "      <td>20.84</td>\n",
       "    </tr>\n",
       "    <tr>\n",
       "      <th>2012-06-22</th>\n",
       "      <td>20.70</td>\n",
       "    </tr>\n",
       "    <tr>\n",
       "      <th>...</th>\n",
       "      <td>...</td>\n",
       "    </tr>\n",
       "    <tr>\n",
       "      <th>2020-10-01</th>\n",
       "      <td>47.64</td>\n",
       "    </tr>\n",
       "    <tr>\n",
       "      <th>2020-10-02</th>\n",
       "      <td>47.47</td>\n",
       "    </tr>\n",
       "    <tr>\n",
       "      <th>2020-10-09</th>\n",
       "      <td>48.62</td>\n",
       "    </tr>\n",
       "    <tr>\n",
       "      <th>2020-10-16</th>\n",
       "      <td>49.12</td>\n",
       "    </tr>\n",
       "    <tr>\n",
       "      <th>2020-10-22</th>\n",
       "      <td>48.01</td>\n",
       "    </tr>\n",
       "  </tbody>\n",
       "</table>\n",
       "<p>2080 rows × 1 columns</p>\n",
       "</div>"
      ],
      "text/plain": [
       "            Eind Waarde\n",
       "Datum                  \n",
       "2012-06-18        20.77\n",
       "2012-06-19        20.90\n",
       "2012-06-20        20.88\n",
       "2012-06-21        20.84\n",
       "2012-06-22        20.70\n",
       "...                 ...\n",
       "2020-10-01        47.64\n",
       "2020-10-02        47.47\n",
       "2020-10-09        48.62\n",
       "2020-10-16        49.12\n",
       "2020-10-22        48.01\n",
       "\n",
       "[2080 rows x 1 columns]"
      ]
     },
     "execution_count": 10,
     "metadata": {},
     "output_type": "execute_result"
    }
   ],
   "source": [
    "benchmarkdata"
   ]
  },
  {
   "cell_type": "code",
   "execution_count": 21,
   "metadata": {},
   "outputs": [
    {
     "data": {
      "text/html": [
       "<div>\n",
       "<style scoped>\n",
       "    .dataframe tbody tr th:only-of-type {\n",
       "        vertical-align: middle;\n",
       "    }\n",
       "\n",
       "    .dataframe tbody tr th {\n",
       "        vertical-align: top;\n",
       "    }\n",
       "\n",
       "    .dataframe thead th {\n",
       "        text-align: right;\n",
       "    }\n",
       "</style>\n",
       "<table border=\"1\" class=\"dataframe\">\n",
       "  <thead>\n",
       "    <tr style=\"text-align: right;\">\n",
       "      <th></th>\n",
       "      <th>Start Waarde</th>\n",
       "      <th>Eind Waarde</th>\n",
       "      <th>Abs Rendement</th>\n",
       "      <th>Rendement</th>\n",
       "    </tr>\n",
       "  </thead>\n",
       "  <tbody>\n",
       "    <tr>\n",
       "      <th>0</th>\n",
       "      <td>49.42</td>\n",
       "      <td>50.78</td>\n",
       "      <td>1.36</td>\n",
       "      <td>2.75%</td>\n",
       "    </tr>\n",
       "  </tbody>\n",
       "</table>\n",
       "</div>"
      ],
      "text/plain": [
       "  Start Waarde Eind Waarde Abs Rendement Rendement\n",
       "0        49.42       50.78          1.36     2.75%"
      ]
     },
     "execution_count": 21,
     "metadata": {},
     "output_type": "execute_result"
    }
   ],
   "source": [
    "sd = '2020-01-05'\n",
    "ed = '2020-01-25'\n",
    "\n",
    "def ZoekBenchmarkOntwikkeling(df, bench, start_date, end_date):\n",
    "    df_klant = df.reset_index()\n",
    "    df_klant = df_klant[['Datum']]\n",
    "    bench = df_klant.merge(bench, how='left', on='Datum')#.groupby(['Datum']).mean()\n",
    "    bench = bench.set_index('Datum')\n",
    "    bench['Eind Waarde'] = bench['Eind Waarde'].fillna(method='ffill')\n",
    "    bench[\"Start Waarde\"] = bench[\"Eind Waarde\"].shift(1)\n",
    "    bench['Benchmark Dag Rendement'] = ((bench['Eind Waarde'] - bench['Start Waarde']) / bench['Start Waarde']).round(5)\n",
    "    bench['Benchmark Dag Rendement'] = bench['Benchmark Dag Rendement'].fillna(0)\n",
    "\n",
    "    new_benchmark_df = bench[start_date:end_date]\n",
    "    bench_sw = new_benchmark_df.loc[start_date,[\"Start Waarde\"]][0]\n",
    "    bench_ew = new_benchmark_df.loc[end_date,[\"Eind Waarde\"]][0]\n",
    "    \n",
    "    \n",
    "    overview = ['{:.2f}'.format(bench_sw), '{:.2f}'.format(bench_ew)]\n",
    "    df = pd.DataFrame([overview], columns =['Start Waarde', 'Eind Waarde'])\n",
    "    \n",
    "    df['Abs Rendement'] = '{:.2f}'.format(bench_ew - bench_sw)\n",
    "    \n",
    "    df['Rendement'] = '{:.2%}'.format((bench_ew - bench_sw) / bench_sw)\n",
    "    \n",
    "    return df\n",
    "\n",
    "\n",
    "ZoekBenchmarkOntwikkeling(klant, benchmarkdata, sd, ed)"
   ]
  },
  {
   "cell_type": "code",
   "execution_count": 20,
   "metadata": {},
   "outputs": [],
   "source": [
    "df1 = ZoekBenchmarkOntwikkeling(klant, benchmarkdata, sd, ed)"
   ]
  },
  {
   "cell_type": "code",
   "execution_count": 23,
   "metadata": {},
   "outputs": [
    {
     "data": {
      "text/html": [
       "<div>\n",
       "<style scoped>\n",
       "    .dataframe tbody tr th:only-of-type {\n",
       "        vertical-align: middle;\n",
       "    }\n",
       "\n",
       "    .dataframe tbody tr th {\n",
       "        vertical-align: top;\n",
       "    }\n",
       "\n",
       "    .dataframe thead th {\n",
       "        text-align: right;\n",
       "    }\n",
       "</style>\n",
       "<table border=\"1\" class=\"dataframe\">\n",
       "  <thead>\n",
       "    <tr style=\"text-align: right;\">\n",
       "      <th></th>\n",
       "      <th>Eind Waarde</th>\n",
       "      <th>Start Waarde</th>\n",
       "      <th>Benchmark Dag Rendement</th>\n",
       "    </tr>\n",
       "    <tr>\n",
       "      <th>Datum</th>\n",
       "      <th></th>\n",
       "      <th></th>\n",
       "      <th></th>\n",
       "    </tr>\n",
       "  </thead>\n",
       "  <tbody>\n",
       "    <tr>\n",
       "      <th>2020-01-21</th>\n",
       "      <td>50.67</td>\n",
       "      <td>50.84</td>\n",
       "      <td>-0.00334</td>\n",
       "    </tr>\n",
       "    <tr>\n",
       "      <th>2020-01-22</th>\n",
       "      <td>50.73</td>\n",
       "      <td>50.67</td>\n",
       "      <td>0.00118</td>\n",
       "    </tr>\n",
       "    <tr>\n",
       "      <th>2020-01-23</th>\n",
       "      <td>50.56</td>\n",
       "      <td>50.73</td>\n",
       "      <td>-0.00335</td>\n",
       "    </tr>\n",
       "    <tr>\n",
       "      <th>2020-01-24</th>\n",
       "      <td>50.78</td>\n",
       "      <td>50.56</td>\n",
       "      <td>0.00435</td>\n",
       "    </tr>\n",
       "    <tr>\n",
       "      <th>2020-01-25</th>\n",
       "      <td>50.78</td>\n",
       "      <td>50.78</td>\n",
       "      <td>0.00000</td>\n",
       "    </tr>\n",
       "  </tbody>\n",
       "</table>\n",
       "</div>"
      ],
      "text/plain": [
       "            Eind Waarde  Start Waarde  Benchmark Dag Rendement\n",
       "Datum                                                         \n",
       "2020-01-21        50.67         50.84                 -0.00334\n",
       "2020-01-22        50.73         50.67                  0.00118\n",
       "2020-01-23        50.56         50.73                 -0.00335\n",
       "2020-01-24        50.78         50.56                  0.00435\n",
       "2020-01-25        50.78         50.78                  0.00000"
      ]
     },
     "execution_count": 23,
     "metadata": {},
     "output_type": "execute_result"
    }
   ],
   "source": [
    "df1.tail()"
   ]
  },
  {
   "cell_type": "code",
   "execution_count": 18,
   "metadata": {},
   "outputs": [
    {
     "data": {
      "text/plain": [
       "49.42"
      ]
     },
     "execution_count": 18,
     "metadata": {},
     "output_type": "execute_result"
    }
   ],
   "source": [
    "df1.loc[sd,[\"Start Waarde\"]][0]"
   ]
  },
  {
   "cell_type": "code",
   "execution_count": null,
   "metadata": {},
   "outputs": [],
   "source": []
  }
 ],
 "metadata": {
  "kernelspec": {
   "display_name": "Python 3",
   "language": "python",
   "name": "python3"
  },
  "language_info": {
   "codemirror_mode": {
    "name": "ipython",
    "version": 3
   },
   "file_extension": ".py",
   "mimetype": "text/x-python",
   "name": "python",
   "nbconvert_exporter": "python",
   "pygments_lexer": "ipython3",
   "version": "3.8.5"
  }
 },
 "nbformat": 4,
 "nbformat_minor": 4
}
